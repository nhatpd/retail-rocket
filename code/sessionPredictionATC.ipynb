{
 "cells": [
  {
   "cell_type": "code",
   "execution_count": 1,
   "metadata": {},
   "outputs": [],
   "source": [
    "import pandas as pd\n",
    "import numpy as np\n",
    "import datetime \n",
    "import time\n",
    "\n",
    "import sys\n",
    "\n",
    "import pyspark.sql.functions as f\n",
    "from pyspark.sql.types import IntegerType\n",
    "from pyspark.sql import Window\n",
    "\n",
    "from pyspark.context import SparkContext\n",
    "from pyspark.sql.session import SparkSession\n",
    "sc = SparkContext()\n",
    "spark = SparkSession(sc)\n",
    "\n",
    "from pyspark.ml.recommendation import ALS\n",
    "# from pyspark.ml.tuning import ParamGridBuilder, CrossValidator\n",
    "from pyspark.ml.evaluation import RegressionEvaluator\n",
    "import matplotlib.pyplot as plt \n",
    "\n",
    "from pyspark.ml.feature import VectorAssembler, StringIndexer\n",
    "from pyspark.ml.feature import StandardScaler\n",
    "from pyspark.ml.classification import LogisticRegression\n",
    "from pyspark.ml.evaluation import BinaryClassificationEvaluator\n",
    "from pyspark.ml.classification import DecisionTreeClassifier\n",
    "from pyspark.ml.classification import RandomForestClassifier\n",
    "from pyspark.ml.classification import GBTClassifier\n",
    "from pyspark.ml.evaluation import MulticlassClassificationEvaluator"
   ]
  },
  {
   "cell_type": "code",
   "execution_count": 2,
   "metadata": {},
   "outputs": [],
   "source": [
    "events=spark.read.csv('data/events.csv',  header= True, inferSchema = True)\n",
    "events = events.withColumn('datetime', f.from_unixtime((events.timestamp.cast('bigint')/1000)).cast('timestamp'))\n",
    "events = events.withColumn('date',f.to_date(events['datetime']))\n",
    "\n",
    "events = events.withColumn('hour_of_day',f.hour(events['datetime']))"
   ]
  },
  {
   "cell_type": "code",
   "execution_count": 6,
   "metadata": {},
   "outputs": [],
   "source": [
    "df_niview = events.where(f.col(\"event\") ==\"view\").groupby(\"visitorid\",'date').\\\n",
    "agg(f.countDistinct(\"itemid\"))\n",
    "df_niview = df_niview.withColumn('comsum_niview', f.sum(df_niview['count(itemid)'])\\\n",
    "                               .over(Window.partitionBy(\"visitorid\").orderBy('date').rowsBetween(-sys.maxsize, 0)))\n",
    "\n",
    "df_nview = events.where(f.col(\"event\") ==\"view\").groupby(\"visitorid\",'date').\\\n",
    "agg(f.count(\"event\"))\n",
    "df_nview = df_nview.withColumn('comsum_nview', f.sum(df_nview['count(event)'])\\\n",
    "                               .over(Window.partitionBy(\"visitorid\").orderBy('date').rowsBetween(-sys.maxsize, 0)))"
   ]
  },
  {
   "cell_type": "code",
   "execution_count": 7,
   "metadata": {},
   "outputs": [],
   "source": [
    "df_at = events.where(f.col(\"event\") ==\"addtocart\").groupby(\"visitorid\",\"date\").agg(f.count(\"event\"))\n",
    "df_at = df_at.toDF('visitorid','date','label')"
   ]
  },
  {
   "cell_type": "code",
   "execution_count": 15,
   "metadata": {},
   "outputs": [],
   "source": [
    "df_final = df_niview.join(df_nview, on =[\"visitorid\",'date'],how = 'inner')\n",
    "df_final = df_final.withColumn('day_of_week',f.dayofweek(df_final['date']))\n",
    "df_final = df_final.withColumn('day_of_month',f.dayofmonth(df_final['date']))\n",
    "df_final = df_final.join(df_at,on = [\"visitorid\",'date'],how = 'outer')\n",
    "df_final = df_final.na.fill(0)\n",
    "\n",
    "#convert number of addtocart to labels 0, 1\n",
    "def convert_event_addtocart(n_addtocart):\n",
    "    if n_addtocart >=1:\n",
    "        return 1\n",
    "    return 0\n",
    "\n",
    "udf_convert_addtocart = f.udf(convert_event_addtocart, IntegerType())\n",
    "df_final = df_final.withColumn(\"label\", udf_convert_addtocart(f.col(\"label\")))"
   ]
  },
  {
   "cell_type": "code",
   "execution_count": 12,
   "metadata": {},
   "outputs": [],
   "source": []
  },
  {
   "cell_type": "code",
   "execution_count": 16,
   "metadata": {},
   "outputs": [
    {
     "data": {
      "text/plain": [
       "1648746"
      ]
     },
     "execution_count": 16,
     "metadata": {},
     "output_type": "execute_result"
    }
   ],
   "source": [
    "df_final.count()"
   ]
  },
  {
   "cell_type": "code",
   "execution_count": 17,
   "metadata": {},
   "outputs": [
    {
     "data": {
      "text/plain": [
       "41469"
      ]
     },
     "execution_count": 17,
     "metadata": {},
     "output_type": "execute_result"
    }
   ],
   "source": [
    "df_final.where(f.col('label')==1).count()"
   ]
  },
  {
   "cell_type": "code",
   "execution_count": 18,
   "metadata": {},
   "outputs": [
    {
     "data": {
      "text/plain": [
       "1607277"
      ]
     },
     "execution_count": 18,
     "metadata": {},
     "output_type": "execute_result"
    }
   ],
   "source": [
    "df_final.where(f.col('label')==0).count()"
   ]
  },
  {
   "cell_type": "code",
   "execution_count": 19,
   "metadata": {},
   "outputs": [
    {
     "name": "stdout",
     "output_type": "stream",
     "text": [
      "The number of ones are 33177\n",
      "Percentage of ones are 2.514843694925969\n",
      "BalancingRatio = 0.9748515630507403\n"
     ]
    }
   ],
   "source": [
    "#convert data to format of pyspark ml\n",
    "cols = df_final.columns\n",
    "cols.remove('visitorid')\n",
    "cols.remove('label')\n",
    "cols.remove('date')\n",
    "\n",
    "assembler = VectorAssembler(inputCols=cols,outputCol=\"features\")\n",
    "data=assembler.transform(df_final)\n",
    "\n",
    "#normalize data\n",
    "standardscaler=StandardScaler().setInputCol(\"features\").setOutputCol(\"Scaled_features\")\n",
    "data=standardscaler.fit(data).transform(data)\n",
    "\n",
    "# split data to training set and testing set\n",
    "train,test = data.randomSplit([0.8, 0.2], seed = 42)\n",
    "\n",
    "#imbalancing handling: most samples have labels zeros\n",
    "\n",
    "dataset_size=float(train.select(\"label\").count())\n",
    "numPositives=train.select(\"label\").where('label == 1').count()\n",
    "per_ones=(float(numPositives)/float(dataset_size))*100\n",
    "numNegatives=float(dataset_size-numPositives)\n",
    "print('The number of ones are {}'.format(numPositives))\n",
    "print('Percentage of ones are {}'.format(per_ones))\n",
    "\n",
    "BalancingRatio= numNegatives/dataset_size\n",
    "print('BalancingRatio = {}'.format(BalancingRatio))\n",
    "\n",
    "train=train.withColumn(\"classWeights\", f.when(train.label == 1,BalancingRatio).otherwise(1-BalancingRatio))\n"
   ]
  },
  {
   "cell_type": "code",
   "execution_count": 20,
   "metadata": {},
   "outputs": [
    {
     "data": {
      "image/png": "[encoded data removed]",
      "text/plain": [
       "<Figure size 432x288 with 1 Axes>"
      ]
     },
     "metadata": {
      "needs_background": "light"
     },
     "output_type": "display_data"
    },
    {
     "name": "stdout",
     "output_type": "stream",
     "text": [
      "Training set areaUnderROC: 0.7425383252333426\n",
      "Test Area Under ROC 0.7390727822926089\n",
      "Accuracy on testing set = 0.851089\n",
      "Accuracy on testing set for labels 0 = 0.860498\n",
      "Accuracy on testing set for labels 1 = 0.486614\n"
     ]
    }
   ],
   "source": [
    "lr = LogisticRegression(featuresCol = 'Scaled_features', labelCol = 'label', weightCol=\"classWeights\", maxIter=10) \n",
    "lrModel = lr.fit(train)\n",
    "\n",
    "trainingSummary = lrModel.summary\n",
    "roc = trainingSummary.roc.toPandas()\n",
    "plt.plot(roc['FPR'],roc['TPR'])\n",
    "plt.ylabel('False Positive Rate')\n",
    "plt.xlabel('True Positive Rate')\n",
    "plt.title('ROC Curve')\n",
    "plt.show()\n",
    "print('Training set areaUnderROC: ' + str(trainingSummary.areaUnderROC))\n",
    "\n",
    "lr_predictions = lrModel.transform(test)\n",
    "evaluatorB = BinaryClassificationEvaluator(labelCol='label')\n",
    "ROC_lr = evaluatorB.evaluate(lr_predictions)\n",
    "print('Test Area Under ROC', ROC_lr)\n",
    "\n",
    "evaluatorM = MulticlassClassificationEvaluator(\n",
    "    labelCol=\"label\", predictionCol=\"prediction\", metricName=\"accuracy\")\n",
    "\n",
    "accuracy_lr = evaluatorM.evaluate(lr_predictions)\n",
    "accuracy0_lr = evaluatorM.evaluate(lr_predictions.where(f.col('label')==0))\n",
    "accuracy1_lr = evaluatorM.evaluate(lr_predictions.where(f.col('label')==1))\n",
    "print(\"Accuracy on testing set = %g\" % accuracy_lr)\n",
    "print(\"Accuracy on testing set for labels 0 = %g\" % accuracy0_lr)\n",
    "print(\"Accuracy on testing set for labels 1 = %g\" % accuracy1_lr)\n"
   ]
  },
  {
   "cell_type": "code",
   "execution_count": 21,
   "metadata": {},
   "outputs": [
    {
     "name": "stdout",
     "output_type": "stream",
     "text": [
      "Test Area Under ROC 0.65874697986082\n",
      "Accuracy on testing set = 0.775092\n",
      "Accuracy on testing set for labels 0 = 0.776325\n",
      "Accuracy on testing set for labels 1 = 0.727328\n"
     ]
    }
   ],
   "source": [
    "dt = DecisionTreeClassifier(featuresCol = 'Scaled_features', labelCol = 'label', weightCol=\"classWeights\",maxDepth = 3)\n",
    "dtModel = dt.fit(train)\n",
    "dt_predictions = dtModel.transform(test)\n",
    "\n",
    "ROC_dt = evaluatorB.evaluate(dt_predictions)\n",
    "print('Test Area Under ROC', ROC_dt)\n",
    "\n",
    "accuracy_dt = evaluatorM.evaluate(dt_predictions)\n",
    "accuracy0_dt = evaluatorM.evaluate(dt_predictions.where(f.col('label')==0))\n",
    "accuracy1_dt = evaluatorM.evaluate(dt_predictions.where(f.col('label')==1))\n",
    "print(\"Accuracy on testing set = %g\" % accuracy_dt)\n",
    "print(\"Accuracy on testing set for labels 0 = %g\" % accuracy0_dt)\n",
    "print(\"Accuracy on testing set for labels 1 = %g\" % accuracy1_dt)"
   ]
  },
  {
   "cell_type": "code",
   "execution_count": 22,
   "metadata": {},
   "outputs": [
    {
     "name": "stdout",
     "output_type": "stream",
     "text": [
      "Test Area Under ROC 0.7960919897948661\n",
      "Accuracy on testing set = 0.775092\n",
      "Accuracy on testing set for labels 0 = 0.776325\n",
      "Accuracy on testing set for labels 1 = 0.727328\n"
     ]
    }
   ],
   "source": [
    "rf = RandomForestClassifier(featuresCol = 'Scaled_features', labelCol = 'label',weightCol=\"classWeights\")\n",
    "rfModel = rf.fit(train)\n",
    "rf_predictions = rfModel.transform(test)\n",
    "\n",
    "ROC_rf = evaluatorB.evaluate(rf_predictions)\n",
    "print('Test Area Under ROC', ROC_rf)\n",
    "\n",
    "accuracy_rf = evaluatorM.evaluate(rf_predictions)\n",
    "accuracy0_rf = evaluatorM.evaluate(rf_predictions.where(f.col('label')==0))\n",
    "accuracy1_rf = evaluatorM.evaluate(rf_predictions.where(f.col('label')==1))\n",
    "print(\"Accuracy on testing set = %g\" % accuracy_rf)\n",
    "print(\"Accuracy on testing set for labels 0 = %g\" % accuracy0_rf)\n",
    "print(\"Accuracy on testing set for labels 1 = %g\" % accuracy1_rf) \n"
   ]
  },
  {
   "cell_type": "code",
   "execution_count": 23,
   "metadata": {},
   "outputs": [
    {
     "name": "stdout",
     "output_type": "stream",
     "text": [
      "Test Area Under ROC 0.7998118504222866\n",
      "Accuracy on testing set = 0.775092\n",
      "Accuracy on testing set for labels 0 = 0.812289\n",
      "Accuracy on testing set for labels 1 = 0.696213\n"
     ]
    }
   ],
   "source": [
    "gbt = GBTClassifier(featuresCol = 'Scaled_features', labelCol = 'label',weightCol=\"classWeights\",maxIter=10)\n",
    "gbtModel = gbt.fit(train)\n",
    "gbt_predictions = gbtModel.transform(test)\n",
    "\n",
    "ROC_gbt = evaluatorB.evaluate(gbt_predictions)\n",
    "print('Test Area Under ROC', ROC_gbt)\n",
    "\n",
    "accuracy_gbt = evaluatorM.evaluate(gbt_predictions)\n",
    "accuracy0_gbt = evaluatorM.evaluate(gbt_predictions.where(f.col('label')==0))\n",
    "accuracy1_gbt = evaluatorM.evaluate(gbt_predictions.where(f.col('label')==1))\n",
    "print(\"Accuracy on testing set = %g\" % accuracy_rf)\n",
    "print(\"Accuracy on testing set for labels 0 = %g\" % accuracy0_gbt)\n",
    "print(\"Accuracy on testing set for labels 1 = %g\" % accuracy1_gbt) \n"
   ]
  },
  {
   "cell_type": "code",
   "execution_count": 26,
   "metadata": {},
   "outputs": [
    {
     "name": "stdout",
     "output_type": "stream",
     "text": [
      "+-------------------+------------------+------------------+------------------+------------------+\n",
      "|             Method|               AUC|               ACC|       ACC_CLASS_0|       ACC_CLASS_1|\n",
      "+-------------------+------------------+------------------+------------------+------------------+\n",
      "| LogisticRegression|0.7390727822926089|0.8510890776603267|0.8604980588841463|0.4866136034732272|\n",
      "|       DecisionTree|  0.65874697986082|0.7750918819176993|0.7763249244256819|0.7273275446213218|\n",
      "|       RandomForest|0.7960919897948661|0.7750918819176993|0.7763249244256819|0.7273275446213218|\n",
      "|GradientBoostedTree|0.7998118504222866|0.8093681619671076|0.8122892714044214|0.6962132175590932|\n",
      "+-------------------+------------------+------------------+------------------+------------------+\n",
      "\n"
     ]
    }
   ],
   "source": [
    "from collections import namedtuple\n",
    "user_row = namedtuple('user_row', 'Method AUC ACC ACC_CLASS_0 ACC_CLASS_1'.split())\n",
    "result = [\n",
    "    user_row('LogisticRegression', ROC_lr, accuracy_lr,accuracy0_lr,accuracy1_lr),\n",
    "    user_row('DecisionTree', ROC_dt, accuracy_dt,accuracy0_dt,accuracy1_dt),\n",
    "    user_row('RandomForest', ROC_rf, accuracy_rf,accuracy0_rf,accuracy1_rf),\n",
    "    user_row('GradientBoostedTree', ROC_gbt, accuracy_gbt,accuracy0_gbt,accuracy1_gbt)\n",
    "]\n",
    "result_df_round = spark.createDataFrame(result)\n",
    "result_df_round.show()"
   ]
  },
  {
   "cell_type": "code",
   "execution_count": null,
   "metadata": {},
   "outputs": [],
   "source": []
  }
 ],
 "metadata": {
  "kernelspec": {
   "display_name": "session_projects",
   "language": "python",
   "name": "session_projects"
  },
  "language_info": {
   "codemirror_mode": {
    "name": "ipython",
    "version": 3
   },
   "file_extension": ".py",
   "mimetype": "text/x-python",
   "name": "python",
   "nbconvert_exporter": "python",
   "pygments_lexer": "ipython3",
   "version": "3.7.4"
  }
 },
 "nbformat": 4,
 "nbformat_minor": 4
}
