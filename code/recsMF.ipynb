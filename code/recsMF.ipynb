{
 "cells": [
  {
   "cell_type": "code",
   "execution_count": 1,
   "metadata": {},
   "outputs": [],
   "source": [
    "import pandas as pd\n",
    "import numpy as np\n",
    "import datetime \n",
    "import time\n",
    "\n",
    "import pyspark.sql.functions as f\n",
    "from pyspark.sql.types import IntegerType\n",
    "from pyspark.sql import Window\n",
    "\n",
    "from pyspark.context import SparkContext\n",
    "from pyspark.sql.session import SparkSession\n",
    "sc = SparkContext()\n",
    "spark = SparkSession(sc)\n",
    "\n",
    "from pyspark.ml.recommendation import ALS\n",
    "# from pyspark.ml.tuning import ParamGridBuilder, CrossValidator\n",
    "from pyspark.ml.evaluation import RegressionEvaluator\n",
    "import matplotlib.pyplot as plt "
   ]
  },
  {
   "cell_type": "code",
   "execution_count": 50,
   "metadata": {},
   "outputs": [],
   "source": [
    "events=spark.read.csv('data/events.csv',  header= True, inferSchema = True)\n",
    "events = events.withColumn('datetime', f.from_unixtime((events.timestamp.cast('bigint')/1000)).cast('timestamp'))"
   ]
  },
  {
   "cell_type": "code",
   "execution_count": 6,
   "metadata": {},
   "outputs": [
    {
     "name": "stdout",
     "output_type": "stream",
     "text": [
      "+-------------+---------+-----------+------+-------------+-------------------+\n",
      "|    timestamp|visitorid|      event|itemid|transactionid|           datetime|\n",
      "+-------------+---------+-----------+------+-------------+-------------------+\n",
      "|1433176736375|   102019|transaction|150318|        13556|2015-06-01 12:38:56|\n",
      "|1433175894837|   102019|       view| 49521|         null|2015-06-01 12:24:54|\n",
      "|1433176042269|   102019|       view| 49521|         null|2015-06-01 12:27:22|\n",
      "|1433175812596|   102019|       view|150318|         null|2015-06-01 12:23:32|\n",
      "|1433175801314|   102019|  addtocart| 49521|         null|2015-06-01 12:23:21|\n",
      "|1433175871497|   102019|       view| 49521|         null|2015-06-01 12:24:31|\n",
      "|1433175714335|   102019|       view| 49521|         null|2015-06-01 12:21:54|\n",
      "|1433175945872|   102019|       view|150318|         null|2015-06-01 12:25:45|\n",
      "|1433176736422|   102019|transaction| 49521|        13556|2015-06-01 12:38:56|\n",
      "+-------------+---------+-----------+------+-------------+-------------------+\n",
      "\n"
     ]
    }
   ],
   "source": [
    "events.where(f.col(\"visitorid\")==102019).show()"
   ]
  },
  {
   "cell_type": "code",
   "execution_count": 51,
   "metadata": {},
   "outputs": [],
   "source": [
    "#preprocessing data\n",
    "    #count number of items that visitors view\n",
    "df_nbview = events.groupby(\"visitorid\").agg(f.count(\"event\")).withColumnRenamed(\"count(DISTINCT itemid)\", \"nb_views\")\n",
    "    #drop visitors that view one item\n",
    "visitors_to_drop = df_nbview.where(f.col(\"count(event)\")==1).select(\"visitorid\")\n",
    "events = events.join(visitors_to_drop, [events.visitorid == visitors_to_drop.visitorid], how='left_anti')\n",
    "\n",
    "    #convert events to values\n",
    "def convert_event_value(event):\n",
    "    if event == 'transaction':\n",
    "        return 30\n",
    "    if event == 'addtocart':\n",
    "        return 10\n",
    "    if event == 'view':\n",
    "        return 1\n",
    "    return 0\n",
    "\n",
    "udf_convert_event = f.udf(convert_event_value, IntegerType())\n",
    "events = events.withColumn(\"event\", udf_convert_event(f.col(\"event\")))"
   ]
  },
  {
   "cell_type": "code",
   "execution_count": 13,
   "metadata": {},
   "outputs": [
    {
     "name": "stdout",
     "output_type": "stream",
     "text": [
      "+---------+------------+\n",
      "|visitorid|count(event)|\n",
      "+---------+------------+\n",
      "|   361387|          15|\n",
      "|  1282360|           5|\n",
      "|  1354794|           1|\n",
      "|   126191|           1|\n",
      "|   957827|           1|\n",
      "|    95994|           3|\n",
      "|  1105097|         117|\n",
      "|  1048223|           5|\n",
      "|  1211143|           1|\n",
      "|  1117990|           1|\n",
      "|   743709|           1|\n",
      "|   592542|          27|\n",
      "|  1253460|           1|\n",
      "|  1282975|           1|\n",
      "|  1038881|           3|\n",
      "|   160820|           4|\n",
      "|   173691|           2|\n",
      "|   580848|           4|\n",
      "|  1145624|           2|\n",
      "|  1310867|           1|\n",
      "+---------+------------+\n",
      "only showing top 20 rows\n",
      "\n"
     ]
    }
   ],
   "source": [
    "df_nbview.show()"
   ]
  },
  {
   "cell_type": "code",
   "execution_count": 15,
   "metadata": {},
   "outputs": [
    {
     "name": "stdout",
     "output_type": "stream",
     "text": [
      "+---------+------------+\n",
      "|visitorid|count(event)|\n",
      "+---------+------------+\n",
      "|  1354794|           1|\n",
      "|   126191|           1|\n",
      "|   957827|           1|\n",
      "|  1211143|           1|\n",
      "|  1117990|           1|\n",
      "|   743709|           1|\n",
      "|  1253460|           1|\n",
      "|  1282975|           1|\n",
      "|  1310867|           1|\n",
      "|     2366|           1|\n",
      "|  1359999|           1|\n",
      "|   101094|           1|\n",
      "|   861999|           1|\n",
      "|   720813|           1|\n",
      "|   929463|           1|\n",
      "|   188644|           1|\n",
      "|   886150|           1|\n",
      "|    29719|           1|\n",
      "|  1276602|           1|\n",
      "|  1080187|           1|\n",
      "+---------+------------+\n",
      "only showing top 20 rows\n",
      "\n"
     ]
    }
   ],
   "source": [
    "df_nbview.where(f.col(\"count(event)\")==1).show()"
   ]
  },
  {
   "cell_type": "code",
   "execution_count": 16,
   "metadata": {},
   "outputs": [
    {
     "name": "stdout",
     "output_type": "stream",
     "text": [
      "+-------------------+---------+------+-----+\n",
      "|           datetime|visitorid|itemid|event|\n",
      "+-------------------+---------+------+-----+\n",
      "|2015-07-03 11:12:12|      266|340315|    1|\n",
      "|2015-08-01 00:42:41|      474|415781|    1|\n",
      "|2015-07-04 23:08:19|      648|321984|    1|\n",
      "|2015-05-06 12:46:39|      916|101288|    1|\n",
      "|2015-05-29 12:54:29|      925|328025|    1|\n",
      "|2015-05-29 13:13:01|      925|328025|    1|\n",
      "|2015-05-29 11:43:06|      925|328025|    1|\n",
      "|2015-08-06 12:50:32|     1370|104613|    1|\n",
      "|2015-07-01 00:04:07|     1972|252780|    1|\n",
      "|2015-05-18 19:04:14|     2133|137697|   30|\n",
      "|2015-05-26 23:07:40|     2180| 11893|    1|\n",
      "|2015-05-26 23:13:46|     2180| 11893|    1|\n",
      "|2015-05-27 00:08:21|     2180| 11893|    1|\n",
      "|2015-05-26 23:39:24|     2180| 11893|    1|\n",
      "|2015-09-14 18:35:11|     2197|454331|    1|\n",
      "|2015-06-23 17:56:32|     2320| 58161|    1|\n",
      "|2015-05-11 11:30:23|     2733| 29298|    1|\n",
      "|2015-08-24 12:01:56|     2849|128039|    1|\n",
      "|2015-08-25 17:45:43|     3013| 49257|    1|\n",
      "|2015-06-22 14:52:34|     3258|369112|    1|\n",
      "+-------------------+---------+------+-----+\n",
      "only showing top 20 rows\n",
      "\n"
     ]
    }
   ],
   "source": [
    "events.show()"
   ]
  },
  {
   "cell_type": "code",
   "execution_count": 53,
   "metadata": {},
   "outputs": [
    {
     "name": "stdout",
     "output_type": "stream",
     "text": [
      "+-------------+---------+-----+------+-------------+-------------------+\n",
      "|    timestamp|visitorid|event|itemid|transactionid|           datetime|\n",
      "+-------------+---------+-----+------+-------------+-------------------+\n",
      "|1433175714335|   102019|    1| 49521|         null|2015-06-01 12:21:54|\n",
      "|1433175801314|   102019|   10| 49521|         null|2015-06-01 12:23:21|\n",
      "|1433175812596|   102019|    1|150318|         null|2015-06-01 12:23:32|\n",
      "|1433175871497|   102019|    1| 49521|         null|2015-06-01 12:24:31|\n",
      "|1433175894837|   102019|    1| 49521|         null|2015-06-01 12:24:54|\n",
      "|1433175945872|   102019|    1|150318|         null|2015-06-01 12:25:45|\n",
      "|1433176042269|   102019|    1| 49521|         null|2015-06-01 12:27:22|\n",
      "|1433176736375|   102019|   30|150318|        13556|2015-06-01 12:38:56|\n",
      "|1433176736422|   102019|   30| 49521|        13556|2015-06-01 12:38:56|\n",
      "+-------------+---------+-----+------+-------------+-------------------+\n",
      "\n"
     ]
    }
   ],
   "source": [
    "events.where(f.col(\"visitorid\")==102019).orderBy('timestamp').show()"
   ]
  },
  {
   "cell_type": "code",
   "execution_count": 54,
   "metadata": {},
   "outputs": [],
   "source": [
    "#keep one interaction for each pair visitor-item\n",
    "w = Window.partitionBy(events[\"visitorid\"], events[\"itemid\"])\n",
    "events = events.withColumn('maxEvent', f.max(f.col(\"event\")).\n",
    "                             over(w)).where(f.col(\"event\")==f.col(\"maxEvent\")).drop(f.col(\"maxEvent\"))\n",
    "events = events.select('datetime','visitorid', 'itemid', 'event')\n",
    "df_final = events.\\\n",
    "    select(f.col('datetime'),\n",
    "           f.col('visitorid').cast('int'),\n",
    "           f.col('itemid').cast('int'),\n",
    "           f.col('event').cast('int')\n",
    "          )\n"
   ]
  },
  {
   "cell_type": "code",
   "execution_count": 59,
   "metadata": {},
   "outputs": [
    {
     "name": "stdout",
     "output_type": "stream",
     "text": [
      "+----------------+\n",
      "|count(visitorid)|\n",
      "+----------------+\n",
      "|          406020|\n",
      "+----------------+\n",
      "\n"
     ]
    }
   ],
   "source": [
    "events.agg(f.countDistinct(\"visitorid\")).show()"
   ]
  },
  {
   "cell_type": "code",
   "execution_count": 60,
   "metadata": {},
   "outputs": [
    {
     "name": "stdout",
     "output_type": "stream",
     "text": [
      "+-------------+\n",
      "|count(itemid)|\n",
      "+-------------+\n",
      "|       166753|\n",
      "+-------------+\n",
      "\n"
     ]
    }
   ],
   "source": [
    "events.agg(f.countDistinct(\"itemid\")).show()"
   ]
  },
  {
   "cell_type": "code",
   "execution_count": 61,
   "metadata": {},
   "outputs": [],
   "source": [
    "# split data to training set and testing set\n",
    "X_train,X_test = df_final.randomSplit([0.8, 0.2], seed = 42)"
   ]
  },
  {
   "cell_type": "code",
   "execution_count": 62,
   "metadata": {},
   "outputs": [],
   "source": [
    "#train using ALS\n",
    "als = ALS(maxIter=10, regParam=0.01, rank=25, userCol=\"visitorid\", itemCol=\"itemid\", ratingCol=\"event\", \n",
    "          coldStartStrategy=\"drop\", nonnegative=True,implicitPrefs=False)\n",
    "model = als.fit(X_train)"
   ]
  },
  {
   "cell_type": "code",
   "execution_count": 63,
   "metadata": {},
   "outputs": [
    {
     "name": "stdout",
     "output_type": "stream",
     "text": [
      "Normalized root-mean-square error on testing set= 0.11826072813567927\n"
     ]
    }
   ],
   "source": [
    "#evaluate the model on the testing set\n",
    "Z = X_test.agg({\"event\":\"max\"}).collect()[0][0] - X_test.agg({\"event\":\"min\"}).collect()[0][0]\n",
    "def predict(model, toPredict):\n",
    "    return model.transform(toPredict).withColumn('prediction', f.round('prediction'))\n",
    "predictions = predict(model, X_test)\n",
    "\n",
    "evaluator = RegressionEvaluator(metricName=\"rmse\", labelCol=\"event\",\n",
    "                                predictionCol=\"prediction\")\n",
    "rmse = evaluator.evaluate(predictions)\n",
    "print(\"Normalized root-mean-square error on testing set= \" + str(rmse/Z))"
   ]
  },
  {
   "cell_type": "code",
   "execution_count": 22,
   "metadata": {},
   "outputs": [
    {
     "name": "stdout",
     "output_type": "stream",
     "text": [
      "Accuracy on testing set = 0.967083\n"
     ]
    }
   ],
   "source": [
    "#convert predictions to 1, 10, 30\n",
    "from pyspark.sql.types import FloatType\n",
    "def convert_predict_value(score):\n",
    "    if score<10.0:\n",
    "        return 1\n",
    "    \n",
    "    if score<20.0:\n",
    "        return 10\n",
    "    return 30\n",
    "\n",
    "convert_score = f.udf(convert_predict_value)\n",
    "predictions = predictions.withColumn(\"score\", convert_score(f.col(\"prediction\")))\n",
    "predictions = predictions.withColumn(\"score\",f.col(\"score\").cast(\"double\"))\n",
    "\n",
    "from pyspark.ml.evaluation import MulticlassClassificationEvaluator\n",
    "evaluator1 = MulticlassClassificationEvaluator(\n",
    "    labelCol=\"event\", predictionCol=\"score\", metricName=\"accuracy\")\n",
    "accuracy = evaluator1.evaluate(predictions)\n",
    "print(\"Accuracy on testing set = %g\" % accuracy)"
   ]
  },
  {
   "cell_type": "code",
   "execution_count": 28,
   "metadata": {},
   "outputs": [
    {
     "name": "stdout",
     "output_type": "stream",
     "text": [
      "+-------------------+---------+------+-----+----------+-----+\n",
      "|           datetime|visitorid|itemid|event|prediction|score|\n",
      "+-------------------+---------+------+-----+----------+-----+\n",
      "|2015-08-20 12:05:51|    66657|380107|    1|       1.0|  1.0|\n",
      "|2015-05-20 17:54:14|   385039|192953|    1|       1.0|  1.0|\n",
      "|2015-06-02 15:47:35|   198281| 43485|    1|       1.0|  1.0|\n",
      "|2015-05-28 20:03:10|   855235|169007|    1|       1.0|  1.0|\n",
      "|2015-09-02 14:57:30|   660977|126887|    1|       0.0|  1.0|\n",
      "|2015-06-08 21:26:32|  1184594|310446|    1|       1.0|  1.0|\n",
      "|2015-07-02 12:11:54|   183766| 96024|    1|       1.0|  1.0|\n",
      "|2015-08-24 09:51:33|   896347|459475|   30|       1.0|  1.0|\n",
      "|2015-07-14 20:28:14|     2358|433905|    1|       0.0|  1.0|\n",
      "|2015-06-05 17:40:16|  1277783|456456|    1|       1.0|  1.0|\n",
      "|2015-07-27 21:46:19|  1048836| 16190|    1|       1.0|  1.0|\n",
      "|2015-05-24 21:15:06|  1331967|462868|   10|       0.0|  1.0|\n",
      "|2015-07-15 23:22:23|    85356|217068|    1|       1.0|  1.0|\n",
      "|2015-07-18 14:55:45|   371606|312728|    1|       1.0|  1.0|\n",
      "|2015-07-22 15:05:37|   202191|172615|    1|       1.0|  1.0|\n",
      "|2015-05-24 23:00:45|  1326290|444920|    1|       0.0|  1.0|\n",
      "|2015-06-28 00:51:54|  1108054|320901|    1|       1.0|  1.0|\n",
      "|2015-08-24 16:56:13|   155011|117565|    1|       1.0|  1.0|\n",
      "|2015-06-04 14:30:34|   829693|186114|    1|       1.0|  1.0|\n",
      "|2015-06-10 12:32:04|   988127|252313|    1|       1.0|  1.0|\n",
      "+-------------------+---------+------+-----+----------+-----+\n",
      "only showing top 20 rows\n",
      "\n"
     ]
    }
   ],
   "source": [
    "predictions.orderBy(f.rand()).show()"
   ]
  },
  {
   "cell_type": "code",
   "execution_count": 31,
   "metadata": {},
   "outputs": [],
   "source": [
    "def get_recs_for_visitor(recs):\n",
    "    #recs should be for a specific visitor\n",
    "    recs = recs.select(\"recommendations.itemid\",\"recommendations.rating\")\n",
    "    items = recs.select(\"itemid\").toPandas().iloc[0,0]\n",
    "#     events = recs.select(\"rating\").toPandas().iloc[0,0]\n",
    "    event_matrix = pd.DataFrame(items,columns = [\"itemid_recs\"])\n",
    "#     event_matrix[\"score\"] = events\n",
    "    event_matrix_ps = spark.createDataFrame(event_matrix)\n",
    "    return event_matrix_ps\n",
    "\n",
    "from collections import namedtuple\n",
    "\n",
    "def visitor_rec(visitor):\n",
    "    user_row = namedtuple('user_row','visitorid')\n",
    "    data = [user_row(visitor)]\n",
    "    return spark.createDataFrame(data)\n",
    "\n",
    "def display_recs(visitor,model):\n",
    "    visitor = visitor_rec(visitor)\n",
    "    userSubsetRecs = model.recommendForUserSubset(visitor, 10)\n",
    "    items_recs = get_recs_for_visitor(userSubsetRecs)\n",
    "    return items_recs.show()\n",
    "    "
   ]
  },
  {
   "cell_type": "code",
   "execution_count": 32,
   "metadata": {},
   "outputs": [
    {
     "name": "stdout",
     "output_type": "stream",
     "text": [
      "+-----------+\n",
      "|itemid_recs|\n",
      "+-----------+\n",
      "|     205756|\n",
      "|     398447|\n",
      "|     245985|\n",
      "|      96085|\n",
      "|     192468|\n",
      "|     167986|\n",
      "|     276096|\n",
      "|     215178|\n",
      "|     415311|\n",
      "|     175893|\n",
      "+-----------+\n",
      "\n"
     ]
    }
   ],
   "source": [
    "# Generate top 10 item recommendations for a specific visitor\n",
    "display_recs(102019,model)"
   ]
  },
  {
   "cell_type": "markdown",
   "metadata": {},
   "source": [
    "show properties of items recommended and bought"
   ]
  },
  {
   "cell_type": "code",
   "execution_count": 33,
   "metadata": {},
   "outputs": [],
   "source": [
    "items=pd.read_csv('data/item_properties_part1.csv')\n",
    "items1=pd.read_csv('data/item_properties_part2.csv')\n",
    "items=pd.concat([items1,items])\n",
    "times=[]\n",
    "for i in items['timestamp']:\n",
    "    times.append(datetime.datetime.fromtimestamp(i//1000.0))\n",
    "items['datatime'] = times\n",
    "\n",
    "def item_property(datetime, item_set, items):\n",
    "    temp = items[(items.itemid.isin(item_set)) & (items.timestamp<datetime)]\n",
    "    temp = temp[temp.timestamp==temp.timestamp.max()]\n",
    "    return temp\n",
    "    "
   ]
  },
  {
   "cell_type": "code",
   "execution_count": 34,
   "metadata": {},
   "outputs": [
    {
     "data": {
      "text/html": [
       "<div>\n",
       "<style scoped>\n",
       "    .dataframe tbody tr th:only-of-type {\n",
       "        vertical-align: middle;\n",
       "    }\n",
       "\n",
       "    .dataframe tbody tr th {\n",
       "        vertical-align: top;\n",
       "    }\n",
       "\n",
       "    .dataframe thead th {\n",
       "        text-align: right;\n",
       "    }\n",
       "</style>\n",
       "<table border=\"1\" class=\"dataframe\">\n",
       "  <thead>\n",
       "    <tr style=\"text-align: right;\">\n",
       "      <th></th>\n",
       "      <th>timestamp</th>\n",
       "      <th>itemid</th>\n",
       "      <th>property</th>\n",
       "      <th>value</th>\n",
       "      <th>datatime</th>\n",
       "    </tr>\n",
       "  </thead>\n",
       "  <tbody>\n",
       "    <tr>\n",
       "      <th>1965555</th>\n",
       "      <td>1433041200000</td>\n",
       "      <td>150318</td>\n",
       "      <td>available</td>\n",
       "      <td>1</td>\n",
       "      <td>2015-05-30 23:00:00</td>\n",
       "    </tr>\n",
       "    <tr>\n",
       "      <th>2094576</th>\n",
       "      <td>1433041200000</td>\n",
       "      <td>49521</td>\n",
       "      <td>888</td>\n",
       "      <td>222207 927133 1307549</td>\n",
       "      <td>2015-05-30 23:00:00</td>\n",
       "    </tr>\n",
       "    <tr>\n",
       "      <th>3198360</th>\n",
       "      <td>1433041200000</td>\n",
       "      <td>49521</td>\n",
       "      <td>365</td>\n",
       "      <td>1116693</td>\n",
       "      <td>2015-05-30 23:00:00</td>\n",
       "    </tr>\n",
       "    <tr>\n",
       "      <th>4861168</th>\n",
       "      <td>1433041200000</td>\n",
       "      <td>49521</td>\n",
       "      <td>792</td>\n",
       "      <td>1116693</td>\n",
       "      <td>2015-05-30 23:00:00</td>\n",
       "    </tr>\n",
       "    <tr>\n",
       "      <th>5912026</th>\n",
       "      <td>1433041200000</td>\n",
       "      <td>150318</td>\n",
       "      <td>917</td>\n",
       "      <td>331643</td>\n",
       "      <td>2015-05-30 23:00:00</td>\n",
       "    </tr>\n",
       "    <tr>\n",
       "      <th>7302564</th>\n",
       "      <td>1433041200000</td>\n",
       "      <td>49521</td>\n",
       "      <td>364</td>\n",
       "      <td>490489</td>\n",
       "      <td>2015-05-30 23:00:00</td>\n",
       "    </tr>\n",
       "    <tr>\n",
       "      <th>8676901</th>\n",
       "      <td>1433041200000</td>\n",
       "      <td>150318</td>\n",
       "      <td>888</td>\n",
       "      <td>1265514 1224110 734600 629205</td>\n",
       "      <td>2015-05-30 23:00:00</td>\n",
       "    </tr>\n",
       "    <tr>\n",
       "      <th>730641</th>\n",
       "      <td>1433041200000</td>\n",
       "      <td>150318</td>\n",
       "      <td>categoryid</td>\n",
       "      <td>1236</td>\n",
       "      <td>2015-05-30 23:00:00</td>\n",
       "    </tr>\n",
       "    <tr>\n",
       "      <th>936625</th>\n",
       "      <td>1433041200000</td>\n",
       "      <td>150318</td>\n",
       "      <td>790</td>\n",
       "      <td>n54120.000</td>\n",
       "      <td>2015-05-30 23:00:00</td>\n",
       "    </tr>\n",
       "    <tr>\n",
       "      <th>1283131</th>\n",
       "      <td>1433041200000</td>\n",
       "      <td>49521</td>\n",
       "      <td>1058</td>\n",
       "      <td>n48.000</td>\n",
       "      <td>2015-05-30 23:00:00</td>\n",
       "    </tr>\n",
       "    <tr>\n",
       "      <th>7099791</th>\n",
       "      <td>1433041200000</td>\n",
       "      <td>49521</td>\n",
       "      <td>839</td>\n",
       "      <td>286312</td>\n",
       "      <td>2015-05-30 23:00:00</td>\n",
       "    </tr>\n",
       "    <tr>\n",
       "      <th>7438840</th>\n",
       "      <td>1433041200000</td>\n",
       "      <td>49521</td>\n",
       "      <td>202</td>\n",
       "      <td>222207</td>\n",
       "      <td>2015-05-30 23:00:00</td>\n",
       "    </tr>\n",
       "    <tr>\n",
       "      <th>8058031</th>\n",
       "      <td>1433041200000</td>\n",
       "      <td>49521</td>\n",
       "      <td>463</td>\n",
       "      <td>n108.000</td>\n",
       "      <td>2015-05-30 23:00:00</td>\n",
       "    </tr>\n",
       "    <tr>\n",
       "      <th>9461031</th>\n",
       "      <td>1433041200000</td>\n",
       "      <td>150318</td>\n",
       "      <td>202</td>\n",
       "      <td>1265514 1224110 734600</td>\n",
       "      <td>2015-05-30 23:00:00</td>\n",
       "    </tr>\n",
       "    <tr>\n",
       "      <th>10750085</th>\n",
       "      <td>1433041200000</td>\n",
       "      <td>49521</td>\n",
       "      <td>available</td>\n",
       "      <td>1</td>\n",
       "      <td>2015-05-30 23:00:00</td>\n",
       "    </tr>\n",
       "  </tbody>\n",
       "</table>\n",
       "</div>"
      ],
      "text/plain": [
       "              timestamp  itemid    property                          value  \\\n",
       "1965555   1433041200000  150318   available                              1   \n",
       "2094576   1433041200000   49521         888          222207 927133 1307549   \n",
       "3198360   1433041200000   49521         365                        1116693   \n",
       "4861168   1433041200000   49521         792                        1116693   \n",
       "5912026   1433041200000  150318         917                         331643   \n",
       "7302564   1433041200000   49521         364                         490489   \n",
       "8676901   1433041200000  150318         888  1265514 1224110 734600 629205   \n",
       "730641    1433041200000  150318  categoryid                           1236   \n",
       "936625    1433041200000  150318         790                     n54120.000   \n",
       "1283131   1433041200000   49521        1058                        n48.000   \n",
       "7099791   1433041200000   49521         839                         286312   \n",
       "7438840   1433041200000   49521         202                         222207   \n",
       "8058031   1433041200000   49521         463                       n108.000   \n",
       "9461031   1433041200000  150318         202         1265514 1224110 734600   \n",
       "10750085  1433041200000   49521   available                              1   \n",
       "\n",
       "                    datatime  \n",
       "1965555  2015-05-30 23:00:00  \n",
       "2094576  2015-05-30 23:00:00  \n",
       "3198360  2015-05-30 23:00:00  \n",
       "4861168  2015-05-30 23:00:00  \n",
       "5912026  2015-05-30 23:00:00  \n",
       "7302564  2015-05-30 23:00:00  \n",
       "8676901  2015-05-30 23:00:00  \n",
       "730641   2015-05-30 23:00:00  \n",
       "936625   2015-05-30 23:00:00  \n",
       "1283131  2015-05-30 23:00:00  \n",
       "7099791  2015-05-30 23:00:00  \n",
       "7438840  2015-05-30 23:00:00  \n",
       "8058031  2015-05-30 23:00:00  \n",
       "9461031  2015-05-30 23:00:00  \n",
       "10750085 2015-05-30 23:00:00  "
      ]
     },
     "execution_count": 34,
     "metadata": {},
     "output_type": "execute_result"
    }
   ],
   "source": [
    "pref_item_true = item_property(1433176736375,[150318,49521],items)\n",
    "pref_item_true"
   ]
  },
  {
   "cell_type": "code",
   "execution_count": 46,
   "metadata": {},
   "outputs": [
    {
     "data": {
      "text/html": [
       "<div>\n",
       "<style scoped>\n",
       "    .dataframe tbody tr th:only-of-type {\n",
       "        vertical-align: middle;\n",
       "    }\n",
       "\n",
       "    .dataframe tbody tr th {\n",
       "        vertical-align: top;\n",
       "    }\n",
       "\n",
       "    .dataframe thead th {\n",
       "        text-align: right;\n",
       "    }\n",
       "</style>\n",
       "<table border=\"1\" class=\"dataframe\">\n",
       "  <thead>\n",
       "    <tr style=\"text-align: right;\">\n",
       "      <th></th>\n",
       "      <th>timestamp</th>\n",
       "      <th>itemid</th>\n",
       "      <th>property</th>\n",
       "      <th>value</th>\n",
       "      <th>datatime</th>\n",
       "    </tr>\n",
       "  </thead>\n",
       "  <tbody>\n",
       "    <tr>\n",
       "      <th>904383</th>\n",
       "      <td>1433041200000</td>\n",
       "      <td>205756</td>\n",
       "      <td>categoryid</td>\n",
       "      <td>490</td>\n",
       "      <td>2015-05-30 23:00:00</td>\n",
       "    </tr>\n",
       "    <tr>\n",
       "      <th>1869263</th>\n",
       "      <td>1433041200000</td>\n",
       "      <td>205756</td>\n",
       "      <td>available</td>\n",
       "      <td>1</td>\n",
       "      <td>2015-05-30 23:00:00</td>\n",
       "    </tr>\n",
       "    <tr>\n",
       "      <th>3049655</th>\n",
       "      <td>1433041200000</td>\n",
       "      <td>205756</td>\n",
       "      <td>888</td>\n",
       "      <td>1197157 1288107 n516.000</td>\n",
       "      <td>2015-05-30 23:00:00</td>\n",
       "    </tr>\n",
       "    <tr>\n",
       "      <th>7218153</th>\n",
       "      <td>1433041200000</td>\n",
       "      <td>205756</td>\n",
       "      <td>790</td>\n",
       "      <td>n29640.000</td>\n",
       "      <td>2015-05-30 23:00:00</td>\n",
       "    </tr>\n",
       "    <tr>\n",
       "      <th>9003961</th>\n",
       "      <td>1433041200000</td>\n",
       "      <td>205756</td>\n",
       "      <td>283</td>\n",
       "      <td>452949 1113285 1314085 1197157 1288107 452949 ...</td>\n",
       "      <td>2015-05-30 23:00:00</td>\n",
       "    </tr>\n",
       "    <tr>\n",
       "      <th>9067145</th>\n",
       "      <td>1433041200000</td>\n",
       "      <td>205756</td>\n",
       "      <td>6</td>\n",
       "      <td>452949 1113285</td>\n",
       "      <td>2015-05-30 23:00:00</td>\n",
       "    </tr>\n",
       "    <tr>\n",
       "      <th>10750289</th>\n",
       "      <td>1433041200000</td>\n",
       "      <td>205756</td>\n",
       "      <td>112</td>\n",
       "      <td>679677</td>\n",
       "      <td>2015-05-30 23:00:00</td>\n",
       "    </tr>\n",
       "  </tbody>\n",
       "</table>\n",
       "</div>"
      ],
      "text/plain": [
       "              timestamp  itemid    property  \\\n",
       "904383    1433041200000  205756  categoryid   \n",
       "1869263   1433041200000  205756   available   \n",
       "3049655   1433041200000  205756         888   \n",
       "7218153   1433041200000  205756         790   \n",
       "9003961   1433041200000  205756         283   \n",
       "9067145   1433041200000  205756           6   \n",
       "10750289  1433041200000  205756         112   \n",
       "\n",
       "                                                      value  \\\n",
       "904383                                                  490   \n",
       "1869263                                                   1   \n",
       "3049655                            1197157 1288107 n516.000   \n",
       "7218153                                          n29640.000   \n",
       "9003961   452949 1113285 1314085 1197157 1288107 452949 ...   \n",
       "9067145                                      452949 1113285   \n",
       "10750289                                             679677   \n",
       "\n",
       "                    datatime  \n",
       "904383   2015-05-30 23:00:00  \n",
       "1869263  2015-05-30 23:00:00  \n",
       "3049655  2015-05-30 23:00:00  \n",
       "7218153  2015-05-30 23:00:00  \n",
       "9003961  2015-05-30 23:00:00  \n",
       "9067145  2015-05-30 23:00:00  \n",
       "10750289 2015-05-30 23:00:00  "
      ]
     },
     "execution_count": 46,
     "metadata": {},
     "output_type": "execute_result"
    }
   ],
   "source": [
    "recs_item = item_property(1433176736375,[205756],items)\n",
    "recs_item "
   ]
  },
  {
   "cell_type": "code",
   "execution_count": 47,
   "metadata": {},
   "outputs": [
    {
     "data": {
      "text/plain": [
       "array(['categoryid', 'available', '888', '790', '283', '6', '112'],\n",
       "      dtype=object)"
      ]
     },
     "execution_count": 47,
     "metadata": {},
     "output_type": "execute_result"
    }
   ],
   "source": [
    "recs_item.property.unique()"
   ]
  },
  {
   "cell_type": "code",
   "execution_count": 48,
   "metadata": {},
   "outputs": [
    {
     "data": {
      "text/plain": [
       "{'790', '888', 'available', 'categoryid'}"
      ]
     },
     "execution_count": 48,
     "metadata": {},
     "output_type": "execute_result"
    }
   ],
   "source": [
    "#common properties\n",
    "set(pref_item_true.property).intersection(set(recs_item.property))"
   ]
  },
  {
   "cell_type": "code",
   "execution_count": 49,
   "metadata": {},
   "outputs": [
    {
     "data": {
      "text/plain": [
       "array(['available', '888', '365', '792', '917', '364', 'categoryid',\n",
       "       '790', '1058', '839', '202', '463'], dtype=object)"
      ]
     },
     "execution_count": 49,
     "metadata": {},
     "output_type": "execute_result"
    }
   ],
   "source": [
    "pref_item_true.property.unique()"
   ]
  },
  {
   "cell_type": "code",
   "execution_count": null,
   "metadata": {},
   "outputs": [],
   "source": []
  },
  {
   "cell_type": "code",
   "execution_count": null,
   "metadata": {},
   "outputs": [],
   "source": []
  }
 ],
 "metadata": {
  "kernelspec": {
   "display_name": "session_projects",
   "language": "python",
   "name": "session_projects"
  },
  "language_info": {
   "codemirror_mode": {
    "name": "ipython",
    "version": 3
   },
   "file_extension": ".py",
   "mimetype": "text/x-python",
   "name": "python",
   "nbconvert_exporter": "python",
   "pygments_lexer": "ipython3",
   "version": "3.7.4"
  }
 },
 "nbformat": 4,
 "nbformat_minor": 4
}
