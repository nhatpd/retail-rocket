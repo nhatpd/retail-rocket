{
 "cells": [
  {
   "cell_type": "code",
   "execution_count": 2,
   "metadata": {},
   "outputs": [],
   "source": [
    "import pandas as pd\n",
    "import numpy as np\n",
    "import datetime \n",
    "import time\n",
    "\n",
    "import pyspark.sql.functions as f\n",
    "from pyspark.sql.types import IntegerType\n",
    "from pyspark.sql import Window\n",
    "\n",
    "from pyspark.context import SparkContext\n",
    "from pyspark.sql.session import SparkSession\n",
    "sc = SparkContext()\n",
    "spark = SparkSession(sc)\n",
    "\n",
    "from pyspark.ml.recommendation import ALS\n",
    "# from pyspark.ml.tuning import ParamGridBuilder, CrossValidator\n",
    "from pyspark.ml.evaluation import RegressionEvaluator\n",
    "import matplotlib.pyplot as plt "
   ]
  },
  {
   "cell_type": "code",
   "execution_count": 3,
   "metadata": {},
   "outputs": [],
   "source": [
    "events=spark.read.csv('data/events.csv',  header= True, inferSchema = True)\n",
    "events = events.withColumn('datetime', f.from_unixtime((events.timestamp.cast('bigint')/1000)).cast('timestamp'))"
   ]
  },
  {
   "cell_type": "code",
   "execution_count": 6,
   "metadata": {},
   "outputs": [
    {
     "name": "stdout",
     "output_type": "stream",
     "text": [
      "+-------------+---------+-----------+------+-------------+-------------------+\n",
      "|    timestamp|visitorid|      event|itemid|transactionid|           datetime|\n",
      "+-------------+---------+-----------+------+-------------+-------------------+\n",
      "|1433176736375|   102019|transaction|150318|        13556|2015-06-01 12:38:56|\n",
      "|1433175894837|   102019|       view| 49521|         null|2015-06-01 12:24:54|\n",
      "|1433176042269|   102019|       view| 49521|         null|2015-06-01 12:27:22|\n",
      "|1433175812596|   102019|       view|150318|         null|2015-06-01 12:23:32|\n",
      "|1433175801314|   102019|  addtocart| 49521|         null|2015-06-01 12:23:21|\n",
      "|1433175871497|   102019|       view| 49521|         null|2015-06-01 12:24:31|\n",
      "|1433175714335|   102019|       view| 49521|         null|2015-06-01 12:21:54|\n",
      "|1433175945872|   102019|       view|150318|         null|2015-06-01 12:25:45|\n",
      "|1433176736422|   102019|transaction| 49521|        13556|2015-06-01 12:38:56|\n",
      "+-------------+---------+-----------+------+-------------+-------------------+\n",
      "\n"
     ]
    }
   ],
   "source": [
    "events.where(f.col(\"visitorid\")==102019).show()"
   ]
  },
  {
   "cell_type": "code",
   "execution_count": 4,
   "metadata": {},
   "outputs": [],
   "source": [
    "#preprocessing data\n",
    "df = events.where(f.col('event')=='transaction').groupby(\"visitorid\",'itemid').agg(f.count(\"event\"))"
   ]
  },
  {
   "cell_type": "code",
   "execution_count": 6,
   "metadata": {},
   "outputs": [],
   "source": [
    "df = df.toDF('visitorid','itemid','rating')"
   ]
  },
  {
   "cell_type": "code",
   "execution_count": 7,
   "metadata": {},
   "outputs": [
    {
     "name": "stdout",
     "output_type": "stream",
     "text": [
      "+---------+------+------+\n",
      "|visitorid|itemid|rating|\n",
      "+---------+------+------+\n",
      "|   723092|  8641|     2|\n",
      "|   851973| 40582|     1|\n",
      "|   207917|449489|     1|\n",
      "|   561611| 15822|     3|\n",
      "|   503857|439194|     1|\n",
      "|   621474| 92361|     1|\n",
      "|  1119553|420079|     1|\n",
      "|   952388| 66405|     1|\n",
      "|   815215|375169|     1|\n",
      "|   822310|272988|     1|\n",
      "|   198153|312728|     1|\n",
      "|   371604|315571|     1|\n",
      "|   430190|447215|     1|\n",
      "|   557700|111530|     2|\n",
      "|   682031|435624|     1|\n",
      "|  1375192| 17478|     1|\n",
      "|  1385901|312728|     1|\n",
      "|   998808|423269|     1|\n",
      "|  1150086|396265|     1|\n",
      "|   969827|427128|     1|\n",
      "+---------+------+------+\n",
      "only showing top 20 rows\n",
      "\n"
     ]
    }
   ],
   "source": [
    "df.show()"
   ]
  },
  {
   "cell_type": "code",
   "execution_count": 24,
   "metadata": {},
   "outputs": [
    {
     "name": "stdout",
     "output_type": "stream",
     "text": [
      "+----------------+\n",
      "|count(visitorid)|\n",
      "+----------------+\n",
      "|           11719|\n",
      "+----------------+\n",
      "\n"
     ]
    }
   ],
   "source": [
    "df.agg(f.countDistinct(\"visitorid\")).show()"
   ]
  },
  {
   "cell_type": "code",
   "execution_count": 25,
   "metadata": {},
   "outputs": [
    {
     "name": "stdout",
     "output_type": "stream",
     "text": [
      "+-------------+\n",
      "|count(itemid)|\n",
      "+-------------+\n",
      "|        12025|\n",
      "+-------------+\n",
      "\n"
     ]
    }
   ],
   "source": [
    "df.agg(f.countDistinct(\"itemid\")).show()"
   ]
  },
  {
   "cell_type": "code",
   "execution_count": 8,
   "metadata": {},
   "outputs": [],
   "source": [
    "# split data to training set and testing set\n",
    "X_train,X_test = df.randomSplit([0.8, 0.2], seed = 42)"
   ]
  },
  {
   "cell_type": "code",
   "execution_count": 9,
   "metadata": {},
   "outputs": [],
   "source": [
    "#train using ALS\n",
    "als = ALS(maxIter=10, regParam=0.01, rank=25, userCol=\"visitorid\", itemCol=\"itemid\", ratingCol=\"rating\", \n",
    "          coldStartStrategy=\"drop\", nonnegative=True,implicitPrefs=False)\n",
    "model = als.fit(X_train)"
   ]
  },
  {
   "cell_type": "code",
   "execution_count": 23,
   "metadata": {},
   "outputs": [
    {
     "name": "stdout",
     "output_type": "stream",
     "text": [
      "Normalized root-mean-square error on testing set = 0.18937995473443514\n"
     ]
    }
   ],
   "source": [
    "#evaluate the model on the testing set\n",
    "Z = X_test.agg({\"rating\":\"max\"}).collect()[0][0] - X_test.agg({\"rating\":\"min\"}).collect()[0][0]\n",
    "def predict(model, toPredict):\n",
    "    return model.transform(toPredict).withColumn('prediction', f.round('prediction'))\n",
    "predictions = predict(model, X_test)\n",
    "\n",
    "evaluator = RegressionEvaluator(metricName=\"rmse\", labelCol=\"rating\",\n",
    "                                predictionCol=\"prediction\")\n",
    "rmse = evaluator.evaluate(predictions)\n",
    "print(\"Normalized root-mean-square error on testing set = \" + str(rmse/Z))"
   ]
  },
  {
   "cell_type": "code",
   "execution_count": 12,
   "metadata": {},
   "outputs": [
    {
     "name": "stdout",
     "output_type": "stream",
     "text": [
      "+---------+------+------+----------+\n",
      "|visitorid|itemid|rating|prediction|\n",
      "+---------+------+------+----------+\n",
      "|  1150086|237019|     1|       1.0|\n",
      "|   272883|237019|     1|       0.0|\n",
      "|  1078486|446934|     1|       0.0|\n",
      "|  1293358| 78494|     1|       1.0|\n",
      "|   841939|122604|     1|       1.0|\n",
      "|   861299|122604|     1|       1.0|\n",
      "|   132676|271823|     1|       1.0|\n",
      "|   723092|273747|     1|       0.0|\n",
      "|   911093|277119|     1|       1.0|\n",
      "|  1156525|290993|     1|       0.0|\n",
      "|   995225| 45731|     1|       0.0|\n",
      "|   404403| 85579|     1|       1.0|\n",
      "|  1150086|187549|     1|       0.0|\n",
      "|     6958|431417|     1|       1.0|\n",
      "|  1032432| 13188|     1|       0.0|\n",
      "|   227091| 51629|     1|       1.0|\n",
      "|    94030|101718|     1|       1.0|\n",
      "|   994820|110077|     1|       0.0|\n",
      "|   737053|206317|     1|       0.0|\n",
      "|   645525|293416|     1|       1.0|\n",
      "+---------+------+------+----------+\n",
      "only showing top 20 rows\n",
      "\n"
     ]
    }
   ],
   "source": [
    "predictions.show()"
   ]
  },
  {
   "cell_type": "code",
   "execution_count": 13,
   "metadata": {},
   "outputs": [],
   "source": [
    "def get_recs_for_visitor(recs):\n",
    "    #recs should be for a specific visitor\n",
    "    recs = recs.select(\"recommendations.itemid\",\"recommendations.rating\")\n",
    "    items = recs.select(\"itemid\").toPandas().iloc[0,0]\n",
    "#     events = recs.select(\"rating\").toPandas().iloc[0,0]\n",
    "    event_matrix = pd.DataFrame(items,columns = [\"itemid_recs\"])\n",
    "#     event_matrix[\"score\"] = events\n",
    "    event_matrix_ps = spark.createDataFrame(event_matrix)\n",
    "    return event_matrix_ps\n",
    "\n",
    "from collections import namedtuple\n",
    "\n",
    "def visitor_rec(visitor):\n",
    "    user_row = namedtuple('user_row','visitorid')\n",
    "    data = [user_row(visitor)]\n",
    "    return spark.createDataFrame(data)\n",
    "\n",
    "def display_recs(visitor,model):\n",
    "    visitor = visitor_rec(visitor)\n",
    "    userSubsetRecs = model.recommendForUserSubset(visitor, 10)\n",
    "    items_recs = get_recs_for_visitor(userSubsetRecs)\n",
    "    return items_recs.show()\n",
    "    "
   ]
  },
  {
   "cell_type": "code",
   "execution_count": 14,
   "metadata": {},
   "outputs": [
    {
     "name": "stdout",
     "output_type": "stream",
     "text": [
      "+-----------+\n",
      "|itemid_recs|\n",
      "+-----------+\n",
      "|     218612|\n",
      "|      81944|\n",
      "|      76196|\n",
      "|     369661|\n",
      "|     119736|\n",
      "|      22161|\n",
      "|       7236|\n",
      "|     331244|\n",
      "|     402462|\n",
      "|        147|\n",
      "+-----------+\n",
      "\n"
     ]
    }
   ],
   "source": [
    "# Generate top 10 item recommendations for a specific visitor\n",
    "display_recs(102019,model)"
   ]
  },
  {
   "cell_type": "markdown",
   "metadata": {},
   "source": [
    "show properties of items recommended and bought"
   ]
  },
  {
   "cell_type": "code",
   "execution_count": 15,
   "metadata": {},
   "outputs": [],
   "source": [
    "items=pd.read_csv('data/item_properties_part1.csv')\n",
    "items1=pd.read_csv('data/item_properties_part2.csv')\n",
    "items=pd.concat([items1,items])\n",
    "times=[]\n",
    "for i in items['timestamp']:\n",
    "    times.append(datetime.datetime.fromtimestamp(i//1000.0))\n",
    "items['datatime'] = times\n",
    "\n",
    "def item_property(datetime, item_set, items):\n",
    "    temp = items[(items.itemid.isin(item_set)) & (items.timestamp<datetime)]\n",
    "    temp = temp[temp.timestamp==temp.timestamp.max()]\n",
    "    return temp\n",
    "    "
   ]
  },
  {
   "cell_type": "code",
   "execution_count": 16,
   "metadata": {},
   "outputs": [
    {
     "data": {
      "text/html": [
       "<div>\n",
       "<style scoped>\n",
       "    .dataframe tbody tr th:only-of-type {\n",
       "        vertical-align: middle;\n",
       "    }\n",
       "\n",
       "    .dataframe tbody tr th {\n",
       "        vertical-align: top;\n",
       "    }\n",
       "\n",
       "    .dataframe thead th {\n",
       "        text-align: right;\n",
       "    }\n",
       "</style>\n",
       "<table border=\"1\" class=\"dataframe\">\n",
       "  <thead>\n",
       "    <tr style=\"text-align: right;\">\n",
       "      <th></th>\n",
       "      <th>timestamp</th>\n",
       "      <th>itemid</th>\n",
       "      <th>property</th>\n",
       "      <th>value</th>\n",
       "      <th>datatime</th>\n",
       "    </tr>\n",
       "  </thead>\n",
       "  <tbody>\n",
       "    <tr>\n",
       "      <th>1965555</th>\n",
       "      <td>1433041200000</td>\n",
       "      <td>150318</td>\n",
       "      <td>available</td>\n",
       "      <td>1</td>\n",
       "      <td>2015-05-30 23:00:00</td>\n",
       "    </tr>\n",
       "    <tr>\n",
       "      <th>2094576</th>\n",
       "      <td>1433041200000</td>\n",
       "      <td>49521</td>\n",
       "      <td>888</td>\n",
       "      <td>222207 927133 1307549</td>\n",
       "      <td>2015-05-30 23:00:00</td>\n",
       "    </tr>\n",
       "    <tr>\n",
       "      <th>3198360</th>\n",
       "      <td>1433041200000</td>\n",
       "      <td>49521</td>\n",
       "      <td>365</td>\n",
       "      <td>1116693</td>\n",
       "      <td>2015-05-30 23:00:00</td>\n",
       "    </tr>\n",
       "    <tr>\n",
       "      <th>4861168</th>\n",
       "      <td>1433041200000</td>\n",
       "      <td>49521</td>\n",
       "      <td>792</td>\n",
       "      <td>1116693</td>\n",
       "      <td>2015-05-30 23:00:00</td>\n",
       "    </tr>\n",
       "    <tr>\n",
       "      <th>5912026</th>\n",
       "      <td>1433041200000</td>\n",
       "      <td>150318</td>\n",
       "      <td>917</td>\n",
       "      <td>331643</td>\n",
       "      <td>2015-05-30 23:00:00</td>\n",
       "    </tr>\n",
       "    <tr>\n",
       "      <th>7302564</th>\n",
       "      <td>1433041200000</td>\n",
       "      <td>49521</td>\n",
       "      <td>364</td>\n",
       "      <td>490489</td>\n",
       "      <td>2015-05-30 23:00:00</td>\n",
       "    </tr>\n",
       "    <tr>\n",
       "      <th>8676901</th>\n",
       "      <td>1433041200000</td>\n",
       "      <td>150318</td>\n",
       "      <td>888</td>\n",
       "      <td>1265514 1224110 734600 629205</td>\n",
       "      <td>2015-05-30 23:00:00</td>\n",
       "    </tr>\n",
       "    <tr>\n",
       "      <th>730641</th>\n",
       "      <td>1433041200000</td>\n",
       "      <td>150318</td>\n",
       "      <td>categoryid</td>\n",
       "      <td>1236</td>\n",
       "      <td>2015-05-30 23:00:00</td>\n",
       "    </tr>\n",
       "    <tr>\n",
       "      <th>936625</th>\n",
       "      <td>1433041200000</td>\n",
       "      <td>150318</td>\n",
       "      <td>790</td>\n",
       "      <td>n54120.000</td>\n",
       "      <td>2015-05-30 23:00:00</td>\n",
       "    </tr>\n",
       "    <tr>\n",
       "      <th>1283131</th>\n",
       "      <td>1433041200000</td>\n",
       "      <td>49521</td>\n",
       "      <td>1058</td>\n",
       "      <td>n48.000</td>\n",
       "      <td>2015-05-30 23:00:00</td>\n",
       "    </tr>\n",
       "    <tr>\n",
       "      <th>7099791</th>\n",
       "      <td>1433041200000</td>\n",
       "      <td>49521</td>\n",
       "      <td>839</td>\n",
       "      <td>286312</td>\n",
       "      <td>2015-05-30 23:00:00</td>\n",
       "    </tr>\n",
       "    <tr>\n",
       "      <th>7438840</th>\n",
       "      <td>1433041200000</td>\n",
       "      <td>49521</td>\n",
       "      <td>202</td>\n",
       "      <td>222207</td>\n",
       "      <td>2015-05-30 23:00:00</td>\n",
       "    </tr>\n",
       "    <tr>\n",
       "      <th>8058031</th>\n",
       "      <td>1433041200000</td>\n",
       "      <td>49521</td>\n",
       "      <td>463</td>\n",
       "      <td>n108.000</td>\n",
       "      <td>2015-05-30 23:00:00</td>\n",
       "    </tr>\n",
       "    <tr>\n",
       "      <th>9461031</th>\n",
       "      <td>1433041200000</td>\n",
       "      <td>150318</td>\n",
       "      <td>202</td>\n",
       "      <td>1265514 1224110 734600</td>\n",
       "      <td>2015-05-30 23:00:00</td>\n",
       "    </tr>\n",
       "    <tr>\n",
       "      <th>10750085</th>\n",
       "      <td>1433041200000</td>\n",
       "      <td>49521</td>\n",
       "      <td>available</td>\n",
       "      <td>1</td>\n",
       "      <td>2015-05-30 23:00:00</td>\n",
       "    </tr>\n",
       "  </tbody>\n",
       "</table>\n",
       "</div>"
      ],
      "text/plain": [
       "              timestamp  itemid    property                          value  \\\n",
       "1965555   1433041200000  150318   available                              1   \n",
       "2094576   1433041200000   49521         888          222207 927133 1307549   \n",
       "3198360   1433041200000   49521         365                        1116693   \n",
       "4861168   1433041200000   49521         792                        1116693   \n",
       "5912026   1433041200000  150318         917                         331643   \n",
       "7302564   1433041200000   49521         364                         490489   \n",
       "8676901   1433041200000  150318         888  1265514 1224110 734600 629205   \n",
       "730641    1433041200000  150318  categoryid                           1236   \n",
       "936625    1433041200000  150318         790                     n54120.000   \n",
       "1283131   1433041200000   49521        1058                        n48.000   \n",
       "7099791   1433041200000   49521         839                         286312   \n",
       "7438840   1433041200000   49521         202                         222207   \n",
       "8058031   1433041200000   49521         463                       n108.000   \n",
       "9461031   1433041200000  150318         202         1265514 1224110 734600   \n",
       "10750085  1433041200000   49521   available                              1   \n",
       "\n",
       "                    datatime  \n",
       "1965555  2015-05-30 23:00:00  \n",
       "2094576  2015-05-30 23:00:00  \n",
       "3198360  2015-05-30 23:00:00  \n",
       "4861168  2015-05-30 23:00:00  \n",
       "5912026  2015-05-30 23:00:00  \n",
       "7302564  2015-05-30 23:00:00  \n",
       "8676901  2015-05-30 23:00:00  \n",
       "730641   2015-05-30 23:00:00  \n",
       "936625   2015-05-30 23:00:00  \n",
       "1283131  2015-05-30 23:00:00  \n",
       "7099791  2015-05-30 23:00:00  \n",
       "7438840  2015-05-30 23:00:00  \n",
       "8058031  2015-05-30 23:00:00  \n",
       "9461031  2015-05-30 23:00:00  \n",
       "10750085 2015-05-30 23:00:00  "
      ]
     },
     "execution_count": 16,
     "metadata": {},
     "output_type": "execute_result"
    }
   ],
   "source": [
    "pref_item_true = item_property(1433176736375,[150318,49521],items)\n",
    "pref_item_true"
   ]
  },
  {
   "cell_type": "code",
   "execution_count": 17,
   "metadata": {},
   "outputs": [
    {
     "data": {
      "text/html": [
       "<div>\n",
       "<style scoped>\n",
       "    .dataframe tbody tr th:only-of-type {\n",
       "        vertical-align: middle;\n",
       "    }\n",
       "\n",
       "    .dataframe tbody tr th {\n",
       "        vertical-align: top;\n",
       "    }\n",
       "\n",
       "    .dataframe thead th {\n",
       "        text-align: right;\n",
       "    }\n",
       "</style>\n",
       "<table border=\"1\" class=\"dataframe\">\n",
       "  <thead>\n",
       "    <tr style=\"text-align: right;\">\n",
       "      <th></th>\n",
       "      <th>timestamp</th>\n",
       "      <th>itemid</th>\n",
       "      <th>property</th>\n",
       "      <th>value</th>\n",
       "      <th>datatime</th>\n",
       "    </tr>\n",
       "  </thead>\n",
       "  <tbody>\n",
       "    <tr>\n",
       "      <th>1256893</th>\n",
       "      <td>1433041200000</td>\n",
       "      <td>218612</td>\n",
       "      <td>1054</td>\n",
       "      <td>n180.000 639502 n192.000</td>\n",
       "      <td>2015-05-30 23:00:00</td>\n",
       "    </tr>\n",
       "    <tr>\n",
       "      <th>2016778</th>\n",
       "      <td>1433041200000</td>\n",
       "      <td>218612</td>\n",
       "      <td>758</td>\n",
       "      <td>n48.000 1187104</td>\n",
       "      <td>2015-05-30 23:00:00</td>\n",
       "    </tr>\n",
       "    <tr>\n",
       "      <th>2849028</th>\n",
       "      <td>1433041200000</td>\n",
       "      <td>218612</td>\n",
       "      <td>available</td>\n",
       "      <td>1</td>\n",
       "      <td>2015-05-30 23:00:00</td>\n",
       "    </tr>\n",
       "    <tr>\n",
       "      <th>4329432</th>\n",
       "      <td>1433041200000</td>\n",
       "      <td>218612</td>\n",
       "      <td>663</td>\n",
       "      <td>1297729 n156.000 606827</td>\n",
       "      <td>2015-05-30 23:00:00</td>\n",
       "    </tr>\n",
       "    <tr>\n",
       "      <th>6789711</th>\n",
       "      <td>1433041200000</td>\n",
       "      <td>218612</td>\n",
       "      <td>962</td>\n",
       "      <td>664227</td>\n",
       "      <td>2015-05-30 23:00:00</td>\n",
       "    </tr>\n",
       "    <tr>\n",
       "      <th>6945194</th>\n",
       "      <td>1433041200000</td>\n",
       "      <td>218612</td>\n",
       "      <td>602</td>\n",
       "      <td>663779</td>\n",
       "      <td>2015-05-30 23:00:00</td>\n",
       "    </tr>\n",
       "    <tr>\n",
       "      <th>7590722</th>\n",
       "      <td>1433041200000</td>\n",
       "      <td>218612</td>\n",
       "      <td>921</td>\n",
       "      <td>526589 39986 1257525</td>\n",
       "      <td>2015-05-30 23:00:00</td>\n",
       "    </tr>\n",
       "    <tr>\n",
       "      <th>9207165</th>\n",
       "      <td>1433041200000</td>\n",
       "      <td>218612</td>\n",
       "      <td>452</td>\n",
       "      <td>1055803 278045</td>\n",
       "      <td>2015-05-30 23:00:00</td>\n",
       "    </tr>\n",
       "    <tr>\n",
       "      <th>253026</th>\n",
       "      <td>1433041200000</td>\n",
       "      <td>218612</td>\n",
       "      <td>478</td>\n",
       "      <td>1282402</td>\n",
       "      <td>2015-05-30 23:00:00</td>\n",
       "    </tr>\n",
       "    <tr>\n",
       "      <th>2600657</th>\n",
       "      <td>1433041200000</td>\n",
       "      <td>218612</td>\n",
       "      <td>888</td>\n",
       "      <td>1093699 n9060.000 1055803 278045 1282402 n24.0...</td>\n",
       "      <td>2015-05-30 23:00:00</td>\n",
       "    </tr>\n",
       "    <tr>\n",
       "      <th>5322698</th>\n",
       "      <td>1433041200000</td>\n",
       "      <td>218612</td>\n",
       "      <td>529</td>\n",
       "      <td>769062</td>\n",
       "      <td>2015-05-30 23:00:00</td>\n",
       "    </tr>\n",
       "    <tr>\n",
       "      <th>5898823</th>\n",
       "      <td>1433041200000</td>\n",
       "      <td>218612</td>\n",
       "      <td>202</td>\n",
       "      <td>1093699 n9060.000</td>\n",
       "      <td>2015-05-30 23:00:00</td>\n",
       "    </tr>\n",
       "    <tr>\n",
       "      <th>6989651</th>\n",
       "      <td>1433041200000</td>\n",
       "      <td>218612</td>\n",
       "      <td>619</td>\n",
       "      <td>n6000.000 1187104</td>\n",
       "      <td>2015-05-30 23:00:00</td>\n",
       "    </tr>\n",
       "    <tr>\n",
       "      <th>7433459</th>\n",
       "      <td>1433041200000</td>\n",
       "      <td>218612</td>\n",
       "      <td>790</td>\n",
       "      <td>n518400.000</td>\n",
       "      <td>2015-05-30 23:00:00</td>\n",
       "    </tr>\n",
       "    <tr>\n",
       "      <th>8182055</th>\n",
       "      <td>1433041200000</td>\n",
       "      <td>218612</td>\n",
       "      <td>1066</td>\n",
       "      <td>n30.960 424566</td>\n",
       "      <td>2015-05-30 23:00:00</td>\n",
       "    </tr>\n",
       "    <tr>\n",
       "      <th>9158724</th>\n",
       "      <td>1433041200000</td>\n",
       "      <td>218612</td>\n",
       "      <td>451</td>\n",
       "      <td>1141052 n48.000</td>\n",
       "      <td>2015-05-30 23:00:00</td>\n",
       "    </tr>\n",
       "  </tbody>\n",
       "</table>\n",
       "</div>"
      ],
      "text/plain": [
       "             timestamp  itemid   property  \\\n",
       "1256893  1433041200000  218612       1054   \n",
       "2016778  1433041200000  218612        758   \n",
       "2849028  1433041200000  218612  available   \n",
       "4329432  1433041200000  218612        663   \n",
       "6789711  1433041200000  218612        962   \n",
       "6945194  1433041200000  218612        602   \n",
       "7590722  1433041200000  218612        921   \n",
       "9207165  1433041200000  218612        452   \n",
       "253026   1433041200000  218612        478   \n",
       "2600657  1433041200000  218612        888   \n",
       "5322698  1433041200000  218612        529   \n",
       "5898823  1433041200000  218612        202   \n",
       "6989651  1433041200000  218612        619   \n",
       "7433459  1433041200000  218612        790   \n",
       "8182055  1433041200000  218612       1066   \n",
       "9158724  1433041200000  218612        451   \n",
       "\n",
       "                                                     value            datatime  \n",
       "1256893                           n180.000 639502 n192.000 2015-05-30 23:00:00  \n",
       "2016778                                    n48.000 1187104 2015-05-30 23:00:00  \n",
       "2849028                                                  1 2015-05-30 23:00:00  \n",
       "4329432                            1297729 n156.000 606827 2015-05-30 23:00:00  \n",
       "6789711                                             664227 2015-05-30 23:00:00  \n",
       "6945194                                             663779 2015-05-30 23:00:00  \n",
       "7590722                               526589 39986 1257525 2015-05-30 23:00:00  \n",
       "9207165                                     1055803 278045 2015-05-30 23:00:00  \n",
       "253026                                             1282402 2015-05-30 23:00:00  \n",
       "2600657  1093699 n9060.000 1055803 278045 1282402 n24.0... 2015-05-30 23:00:00  \n",
       "5322698                                             769062 2015-05-30 23:00:00  \n",
       "5898823                                  1093699 n9060.000 2015-05-30 23:00:00  \n",
       "6989651                                  n6000.000 1187104 2015-05-30 23:00:00  \n",
       "7433459                                        n518400.000 2015-05-30 23:00:00  \n",
       "8182055                                     n30.960 424566 2015-05-30 23:00:00  \n",
       "9158724                                    1141052 n48.000 2015-05-30 23:00:00  "
      ]
     },
     "execution_count": 17,
     "metadata": {},
     "output_type": "execute_result"
    }
   ],
   "source": [
    "recs_item = item_property(1433176736375,[218612],items)\n",
    "recs_item "
   ]
  },
  {
   "cell_type": "code",
   "execution_count": 18,
   "metadata": {},
   "outputs": [
    {
     "data": {
      "text/plain": [
       "array(['1054', '758', 'available', '663', '962', '602', '921', '452',\n",
       "       '478', '888', '529', '202', '619', '790', '1066', '451'],\n",
       "      dtype=object)"
      ]
     },
     "execution_count": 18,
     "metadata": {},
     "output_type": "execute_result"
    }
   ],
   "source": [
    "recs_item.property.unique()"
   ]
  },
  {
   "cell_type": "code",
   "execution_count": 19,
   "metadata": {},
   "outputs": [
    {
     "data": {
      "text/plain": [
       "{'202', '790', '888', 'available'}"
      ]
     },
     "execution_count": 19,
     "metadata": {},
     "output_type": "execute_result"
    }
   ],
   "source": [
    "#common properties\n",
    "set(pref_item_true.property).intersection(set(recs_item.property))"
   ]
  },
  {
   "cell_type": "code",
   "execution_count": 20,
   "metadata": {},
   "outputs": [
    {
     "data": {
      "text/plain": [
       "array(['available', '888', '365', '792', '917', '364', 'categoryid',\n",
       "       '790', '1058', '839', '202', '463'], dtype=object)"
      ]
     },
     "execution_count": 20,
     "metadata": {},
     "output_type": "execute_result"
    }
   ],
   "source": [
    "pref_item_true.property.unique()"
   ]
  },
  {
   "cell_type": "code",
   "execution_count": null,
   "metadata": {},
   "outputs": [],
   "source": []
  },
  {
   "cell_type": "code",
   "execution_count": null,
   "metadata": {},
   "outputs": [],
   "source": []
  }
 ],
 "metadata": {
  "kernelspec": {
   "display_name": "session_projects",
   "language": "python",
   "name": "session_projects"
  },
  "language_info": {
   "codemirror_mode": {
    "name": "ipython",
    "version": 3
   },
   "file_extension": ".py",
   "mimetype": "text/x-python",
   "name": "python",
   "nbconvert_exporter": "python",
   "pygments_lexer": "ipython3",
   "version": "3.7.4"
  }
 },
 "nbformat": 4,
 "nbformat_minor": 4
}
